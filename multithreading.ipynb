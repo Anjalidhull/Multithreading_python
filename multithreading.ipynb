{
 "cells": [
  {
   "cell_type": "code",
   "execution_count": 2,
   "id": "32216293-07cf-4ca6-8ac9-6e9fb9d96cf9",
   "metadata": {},
   "outputs": [],
   "source": [
    "import threading"
   ]
  },
  {
   "cell_type": "code",
   "execution_count": null,
   "id": "967c34cc-b6c5-44c6-9806-aafd09309cd5",
   "metadata": {},
   "outputs": [],
   "source": [
    "Q1. what is multithreading in python? hy is it used? Name the module used to handle threads in python"
   ]
  },
  {
   "cell_type": "code",
   "execution_count": null,
   "id": "c7bee778-ea25-4218-9537-529843cc7c71",
   "metadata": {},
   "outputs": [],
   "source": [
    "multithreading is a way of achieving multitasking. In multithreading, the concept of threads is used.\n",
    "threading module is used in multithreading .\n"
   ]
  },
  {
   "cell_type": "code",
   "execution_count": null,
   "id": "ebda8bbe-e1be-481e-897d-843447a10577",
   "metadata": {},
   "outputs": [],
   "source": [
    "Q2. Why threading module used? Write the use of the following functions\n",
    " activeCount()\n",
    " currentThread()\n",
    " enumerate()"
   ]
  },
  {
   "cell_type": "code",
   "execution_count": null,
   "id": "3923192d-07e0-471d-9124-82a56b1ecccb",
   "metadata": {},
   "outputs": [],
   "source": [
    "The threading module exposes all the methods of the thread module and \n",
    "provides some additional methods "
   ]
  },
  {
   "cell_type": "code",
   "execution_count": null,
   "id": "4b936c6d-6d9b-4b0a-9635-fe66d57a930b",
   "metadata": {},
   "outputs": [],
   "source": [
    "threading.activeCount() − Returns the number of thread objects that are active.\n",
    "threading.currentThread() − Returns the number of thread objects in the caller's thread control.\n",
    "threading.enumerate() − Returns a list of all thread objects that are currently active."
   ]
  },
  {
   "cell_type": "code",
   "execution_count": null,
   "id": "433c1f79-7e84-4982-b73b-2880eb27cfa6",
   "metadata": {},
   "outputs": [],
   "source": [
    "Q3 Explain the following functions\n",
    "run\n",
    "start\n",
    "join\n",
    "isAlive"
   ]
  },
  {
   "cell_type": "code",
   "execution_count": null,
   "id": "9d27d1b4-f72f-4852-997b-4adffd0196f6",
   "metadata": {},
   "outputs": [],
   "source": [
    "run()  − The run() method is the entry point for a thread.\n",
    "start()  − The start() method starts a thread by calling the run method.\n",
    "join([time])  − The join() waits for threads to terminate.\n",
    "isAlive()  − The isAlive() method checks whether a thread is still executing.\n"
   ]
  },
  {
   "cell_type": "code",
   "execution_count": null,
   "id": "541980ce-f06a-4809-aa73-d8a72f710e77",
   "metadata": {},
   "outputs": [],
   "source": [
    "4. Write a python program to create two threads. Thread one must print the list of squares and thread\n",
    "two must print the list of cubes"
   ]
  },
  {
   "cell_type": "code",
   "execution_count": 1,
   "id": "996e6d3a-acbf-4133-9eb4-1f193b1686a7",
   "metadata": {},
   "outputs": [],
   "source": []
  },
  {
   "cell_type": "code",
   "execution_count": 16,
   "id": "594b21a3-c4c6-499d-a5f0-f15cc750a35e",
   "metadata": {},
   "outputs": [
    {
     "name": "stdout",
     "output_type": "stream",
     "text": [
      "List of squares: [1, 4, 9, 16, 25, 36, 49, 64, 81, 100]\n",
      "List of cubes: [1, 8, 27, 64, 125, 216, 343, 512, 729, 1000]\n",
      "Both threads have completed.\n"
     ]
    }
   ],
   "source": [
    "import threading\n",
    "\n",
    "def print_squares():\n",
    "    squares = [x**2 for x in range(1, 11)]\n",
    "    print(\"List of squares:\", squares)\n",
    "\n",
    "def print_cubes():\n",
    "    cubes = [x**3 for x in range(1, 11)]\n",
    "    print(\"List of cubes:\", cubes)\n",
    "\n",
    "if __name__ == \"__main__\":\n",
    "    thread1 = threading.Thread(target=print_squares)\n",
    "    thread2 = threading.Thread(target=print_cubes)\n",
    "\n",
    "    # Start the threads\n",
    "    thread1.start()\n",
    "    thread2.start()\n",
    "\n",
    "    # Wait for both threads to finish\n",
    "    thread1.join()\n",
    "    thread2.join()\n",
    "\n",
    "    print(\"Both threads have completed.\")\n"
   ]
  },
  {
   "cell_type": "code",
   "execution_count": null,
   "id": "ef06891a-e049-49b2-9db5-bdb834b68047",
   "metadata": {},
   "outputs": [],
   "source": [
    "Q5. State advantages and disadvantages of multithreading"
   ]
  },
  {
   "cell_type": "code",
   "execution_count": null,
   "id": "4b4fccad-062c-419c-bb58-517273212ae4",
   "metadata": {},
   "outputs": [],
   "source": [
    "Advantages:\n",
    "\n",
    "It doesn’t block the user. This is because threads are independent of each other.\n",
    "Better use of system resources is possible since threads execute tasks parallely.\n",
    "Enhanced performance on multi-processor machines.\n",
    "Multi-threaded servers and interactive GUIs use multithreading exclusively.\n"
   ]
  },
  {
   "cell_type": "code",
   "execution_count": null,
   "id": "18e20d64-1f87-47b5-833e-6511f0f799ee",
   "metadata": {},
   "outputs": [],
   "source": [
    "Disadvantages:\n",
    "\n",
    "As number of threads increase, complexity increases.\n",
    "Synchronization of shared resources (objects, data) is necessary.\n",
    "It is difficult to debug, result is sometimes unpredictable.\n",
    "Potential deadlocks which leads to starvation, i.e. some threads may not be served with a bad design\n",
    "Constructing and synchronizing threads is CPU/memory intensive."
   ]
  },
  {
   "cell_type": "code",
   "execution_count": null,
   "id": "19a35140-f3bb-4b89-83f8-e0158f2d7dc5",
   "metadata": {},
   "outputs": [],
   "source": [
    "Q6.Explain deadlocks and race conditions."
   ]
  },
  {
   "cell_type": "code",
   "execution_count": null,
   "id": "fb61037a-10c2-49b0-a3b5-2d2b0b235868",
   "metadata": {},
   "outputs": [],
   "source": [
    "Deadlocks:\n",
    "A deadlock is a situation in which two or more threads are unable to proceed \n",
    "with their execution because each is waiting for the other(s) to release a\n",
    "resource or lock. It results in a standstill, where the threads are\n",
    "effectively stuck and cannot make any progress. Deadlocks are typically\n",
    "caused by a circular dependency between threads when acquiring multiple \n",
    "resources or locks."
   ]
  },
  {
   "cell_type": "code",
   "execution_count": null,
   "id": "c6a0470d-3aea-4e33-b516-678c1398aaae",
   "metadata": {},
   "outputs": [],
   "source": [
    "Race Conditions:\n",
    "A race condition occurs when two or more threads access a shared resource\n",
    "simultaneously, and the final outcome depends on the order in which the \n",
    "threads execute. The behavior of the program becomes unpredictable, as the\n",
    "threads race against each other to access and modify the shared resource.\n",
    "The result depends on the timing of their execution, and the output may vary \n",
    "each time the program is run."
   ]
  }
 ],
 "metadata": {
  "kernelspec": {
   "display_name": "Python 3 (ipykernel)",
   "language": "python",
   "name": "python3"
  },
  "language_info": {
   "codemirror_mode": {
    "name": "ipython",
    "version": 3
   },
   "file_extension": ".py",
   "mimetype": "text/x-python",
   "name": "python",
   "nbconvert_exporter": "python",
   "pygments_lexer": "ipython3",
   "version": "3.10.8"
  }
 },
 "nbformat": 4,
 "nbformat_minor": 5
}
